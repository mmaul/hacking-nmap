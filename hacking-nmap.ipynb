{
 "cells": [
  {
   "cell_type": "markdown",
   "metadata": {
    "deletable": true,
    "editable": true
   },
   "source": [
    "# Hacking with nmap\n",
    "\n",
    "Lets have some fun with nmap...\n",
    "\n",
    "First some conventions, this notebook is using a Jupyter Notepook with an Python Kernel though most of the stuff we will be doing are bash commands. The Jupyter Puthon Kernel allows running of bash commands by prepending a exclemation point in front of the command or by prepending a code block with %%bash, so that is why there is a bang in fron of bash commands or %%bash in code blocks with bash commands.\n",
    "\n",
    "So what is nmap, nmap is a flexible, extensible network scanning engine. Without even touching on the extensible bits nmap contains many sophisticated useful features. The extensibility parts makes nmap a more powerful scanning enging but extends it's capabilities in to the realm of vulnerability scanning, network toolkits and exploit delivery.\n",
    "\n",
    "Right so first thing is RTFM which on UNIX systems is the venerable manpage.\n",
    "\n",
    "```bash\n",
    "man nmap\n",
    "\n",
    "NMAP(1)                      Nmap Reference Guide                      NMAP(1)\n",
    "\n",
    "NAME\n",
    "       nmap - Network exploration tool and security / port scanner\n",
    "\n",
    "SYNOPSIS\n",
    "       nmap [Scan Type...] [Options] {target specification}\n",
    "\n",
    "DESCRIPTION\n",
    "       Nmap (“Network Mapper”) is an open source tool for network exploration\n",
    "       and security auditing. It was designed to rapidly scan large networks,\n",
    "       although it works fine against single hosts. Nmap uses raw IP packets\n",
    "       in novel ways to determine what hosts are available on the network,\n",
    "       what services (application name and version) those hosts are offering,\n",
    "       what operating systems (and OS versions) they are running, what type of\n",
    "       packet filters/firewalls are in use, and dozens of other\n",
    "       ...\n",
    "```\n",
    "\n",
    "We won't include the whole think because it is really really long."
   ]
  },
  {
   "cell_type": "markdown",
   "metadata": {
    "deletable": true,
    "editable": true
   },
   "source": [
    "BTW about the command we just ran to dumpt the man pate into the note book, well the the -P option tells man to use formattting like cat would and just dump the page instead of paginating it for a terminsl.\n",
    "\n",
    "What a wall of text, well with great flexibility comes great complexity.. But who reads man pages anyways, your question is probably on Stackoverflow already/... ;)\n",
    "\n",
    "Seriously though man pages are a tremendous resource, and prehaps a value lost in today's world of Aglie development.\n",
    "\n",
    "So ther is a lot of information about nmap out there and if your familiar with nmap and nse you might as well as stop reading now. The main objective here is to hack with something that is new and unfamilar. It is imposible to know everything about everything, however with a the right analytical skills today especially it give you the tools to travel light and get things done.\n",
    "\n",
    "What I wanted to focus on here is the extensibility aspect, in that I am refering to NSE the nmap scripting engine...\n",
    "\n",
    "NMap comes with a number of scrpts utilizing NSE lets take a look at one real quick...But it might help if we did this with a purpose in mind....\n",
    "\n",
    "Lets supose we thought that developers might be using the builtin Python http-server module for development and that they are doing it in their development directory which is a git repository, they could be exposing credentials that would allow injection of malicious code in to a souce tree that could make it in to production, what a nice place to put a backdoor....\n",
    "\n",
    "Right so how do we do this? Youre vaugly familiar with nmap, it's a port scanner that would be good for perhaps scanning for ports that have a HTTP server running. But how do we know if the server is a Python http-server? So dorking about with nmap and browsing on the interwebs you find out about this cool feature of nmap that allows scripting, and that there a lot of built in scripts in /usr/share/nmap/scripts . There is even one called http-headers that prints out HTTP headers of any HTTP server that nmap connects to\n",
    "This one dumps the banner output from an number of network protocols....\n",
    "\n",
    "Looks like a good start and it'ts easy enough to stand up a Python http-server inside a directory with a git repo to test our theory...."
   ]
  },
  {
   "cell_type": "code",
   "execution_count": null,
   "metadata": {
    "collapsed": false,
    "deletable": true,
    "editable": true
   },
   "outputs": [],
   "source": [
    "%%bash\n",
    "mkdir ~/hacking-with-nmap\n",
    "cd ~/hacking-with-nmap\n",
    "git init\n",
    "python3 -m http.server"
   ]
  },
  {
   "cell_type": "markdown",
   "metadata": {
    "deletable": true,
    "editable": true
   },
   "source": [
    "```\n",
    "Serving HTTP on 0.0.0.0 port 8000 ...\n",
    "```\n",
    " Yikes that is listening on all addresses including accessable from other machines on the network and possibly the internet.\n",
    " \n",
    " We better kill http-server and restart it, on the local loop back port."
   ]
  },
  {
   "cell_type": "code",
   "execution_count": null,
   "metadata": {
    "collapsed": true,
    "deletable": true,
    "editable": true
   },
   "outputs": [],
   "source": [
    "%%%bash\n",
    "pkill -f \"python3 -m http.server\"\n",
    "python3 -m http.server --bind 127.0.0.1 8000"
   ]
  },
  {
   "cell_type": "markdown",
   "metadata": {
    "deletable": true,
    "editable": true
   },
   "source": [
    "Now we are ready to have go at the mython http-server module with the NMap NSE script http-headers"
   ]
  },
  {
   "cell_type": "code",
   "execution_count": 3,
   "metadata": {
    "collapsed": false,
    "deletable": true,
    "editable": true
   },
   "outputs": [
    {
     "name": "stdout",
     "output_type": "stream",
     "text": [
      "\n",
      "Starting Nmap 7.40 ( https://nmap.org ) at 2018-05-27 22:22 EDT\n",
      "Nmap scan report for localhost (127.0.0.1)\n",
      "Host is up (0.00013s latency).\n",
      "PORT     STATE  SERVICE\n",
      "80/tcp   closed http\n",
      "8000/tcp open   http-alt\n",
      "| http-headers: \n",
      "|   Server: SimpleHTTP/0.6 Python/3.5.2\n",
      "|   Date: Mon, 28 May 2018 02:22:13 GMT\n",
      "|   Content-type: text/html; charset=utf-8\n",
      "|   Content-Length: 542\n",
      "|   \n",
      "|_  (Request type: HEAD)\n",
      "8080/tcp closed http-proxy\n",
      "\n",
      "Nmap done: 1 IP address (1 host up) scanned in 0.28 seconds\n"
     ]
    }
   ],
   "source": [
    "%%bash\n",
    "nmap --script http-headers -p 80,8000,8080 127.0.0.1"
   ]
  },
  {
   "cell_type": "markdown",
   "metadata": {
    "collapsed": true,
    "deletable": true,
    "editable": true
   },
   "source": [
    "Perfect the Python http-server populates the server field in the HTTP headers now we know how to identify potential targets.\n",
    "\n",
    "Okay so how do we figure out how to find out if the server has a git repo inside and get the information. Uh I guess we could write a scraper but that is work...\n",
    "\n",
    "I wonder are there any NSE scripts that do something like what we want?"
   ]
  },
  {
   "cell_type": "code",
   "execution_count": 1,
   "metadata": {
    "collapsed": false,
    "deletable": true,
    "editable": true
   },
   "outputs": [
    {
     "name": "stdout",
     "output_type": "stream",
     "text": [
      "http-git.nse\n",
      "http-gitweb-projects-enum.nse\n"
     ]
    }
   ],
   "source": [
    "%%%bash\n",
    "ls /usr/share/nmap/scripts| grep git"
   ]
  },
  {
   "cell_type": "markdown",
   "metadata": {
    "collapsed": true,
    "deletable": true,
    "editable": true
   },
   "source": [
    "Hmm http-git looks interesting. Lets get some more information. From reading the man page we can use the switch --script-help to get more information on a script"
   ]
  },
  {
   "cell_type": "code",
   "execution_count": 2,
   "metadata": {
    "collapsed": false,
    "deletable": true,
    "editable": true
   },
   "outputs": [
    {
     "name": "stdout",
     "output_type": "stream",
     "text": [
      "\n",
      "Starting Nmap 7.40 ( https://nmap.org ) at 2018-05-28 00:32 EDT\n",
      "\n",
      "http-git\n",
      "Categories: default safe vuln\n",
      "https://nmap.org/nsedoc/scripts/http-git.html\n",
      "  Checks for a Git repository found in a website's document root\n",
      "  /.git/<something>) and retrieves as much repo information as\n",
      "  possible, including language/framework, remotes, last commit\n",
      "  message, and repository description.\n"
     ]
    }
   ],
   "source": [
    "!nmap --script-help http-git"
   ]
  },
  {
   "cell_type": "markdown",
   "metadata": {
    "deletable": true,
    "editable": true
   },
   "source": [
    "Perfect it does pretty much what we want, list test it out"
   ]
  },
  {
   "cell_type": "code",
   "execution_count": 3,
   "metadata": {
    "collapsed": false,
    "deletable": true,
    "editable": true
   },
   "outputs": [
    {
     "name": "stdout",
     "output_type": "stream",
     "text": [
      "\n",
      "Starting Nmap 7.40 ( https://nmap.org ) at 2018-05-28 00:35 EDT\n",
      "Nmap scan report for localhost (127.0.0.1)\n",
      "Host is up (0.00014s latency).\n",
      "PORT     STATE SERVICE\n",
      "8000/tcp open  http-alt\n",
      "| http-git: \n",
      "|   127.0.0.1:8000/.git/\n",
      "|     Git repository found!\n",
      "|_    Repository description: Unnamed repository; edit this file 'description' to name the...\n",
      "\n",
      "Nmap done: 1 IP address (1 host up) scanned in 0.32 seconds\n"
     ]
    }
   ],
   "source": [
    "!nmap --script http-git -p 8000 127.0.0.1"
   ]
  },
  {
   "cell_type": "markdown",
   "metadata": {
    "deletable": true,
    "editable": true
   },
   "source": [
    "Okay so we know how to find the target servers and we know how to find the git repo if it is there. But how do we ty the two together?\n",
    "\n",
    "Well we could parse the text output, but that seems like it would be a pain and be brittle. Hmm something from the manpage sticks out nmap can  generate XML output to a file with the -oX switch\n",
    "\n",
    "```bash\n",
    " nmap --script http-git -p 8000 127.0.0.1 -oX -\n",
    " ```\n",
    "```xml\n",
    "<?xml version=\"1.0\" encoding=\"UTF-8\"?>\n",
    "<!DOCTYPE nmaprun>\n",
    "<?xml-stylesheet href=\"file:///usr/bin/../share/nmap/nmap.xsl\" type=\"text/xsl\"?>\n",
    "<!-- Nmap 7.40 scan initiated Mon May 28 00:42:10 2018 as: nmap -&#45;script http-git -p 8000 -oX - 127.0.0.1 -->\n",
    "<nmaprun scanner=\"nmap\" args=\"nmap -&#45;script http-git -p 8000 -oX - 127.0.0.1\" start=\"1527482530\" startstr=\"Mon May 28 00:42:10 2018\" version=\"7.40\" xmloutputversion=\"1.04\">\n",
    "<scaninfo type=\"connect\" protocol=\"tcp\" numservices=\"1\" services=\"8000\"/>\n",
    "<verbose level=\"0\"/>\n",
    "<debugging level=\"0\"/>\n",
    "<host starttime=\"1527482530\" endtime=\"1527482530\"><status state=\"up\" reason=\"conn-refused\" reason_ttl=\"0\"/>\n",
    "<address addr=\"127.0.0.1\" addrtype=\"ipv4\"/>\n",
    "<hostnames>\n",
    "<hostname name=\"localhost\" type=\"PTR\"/>\n",
    "</hostnames>\n",
    "<ports><port protocol=\"tcp\" portid=\"8000\"><state state=\"open\" reason=\"syn-ack\" reason_ttl=\"0\"/><service name=\"http-alt\" method=\"table\" conf=\"3\"/><script id=\"http-git\" output=\"&#xa;  127.0.0.1:8000/.git/&#xa;    Git repository found!&#xa;    Repository description: Unnamed repository; edit this file &apos;description&apos; to name the...&#xa;\"><table key=\"127.0.0.1:8000/.git/\">\n",
    "<table key=\"files-found\">\n",
    "<elem key=\".git/COMMIT_EDITMSG\">false</elem>\n",
    "<elem key=\".git/description\">true</elem>\n",
    "<elem key=\".git/config\">true</elem>\n",
    "<elem key=\".git/info/exclude\">true</elem>\n",
    "<elem key=\".gitignore\">false</elem>\n",
    "</table>\n",
    "<elem key=\"repository-description\">Unnamed repository; edit this file &apos;description&apos; to name the repository.&#xa;</elem>\n",
    "</table>\n",
    "</script></port>\n",
    "</ports>\n",
    "<times srtt=\"191\" rttvar=\"3775\" to=\"100000\"/>\n",
    "</host>\n",
    "<runstats><finished time=\"1527482530\" timestr=\"Mon May 28 00:42:10 2018\" elapsed=\"0.39\" summary=\"Nmap done at Mon May 28 00:42:10 2018; 1 IP address (1 host up) scanned in 0.39 seconds\" exit=\"success\"/><hosts up=\"1\" down=\"0\" total=\"1\"/>\n",
    "</runstats>\n",
    "</nmaprun>\n",
    "```\n",
    "\n",
    "So that is nice, but, ug now I have to figure out how to deal with the XML (Note using the XML output is perfectly reasonable and good, just not one were going to take)\n",
    "\n",
    "Okay so what if we could mash the two NSE scripts together and make one script that does what we want. Besides wouldn't it be cool if we could make our own NSE scripts that might be a nice think to know how to do.\n",
    "\n",
    "The NMap NSE uses an ebeded Lua interperter for it's scrptting engine. Lua is an awesome little language similar to Javascript, small light and fast. In many ways a better Javascript than Javascript. The primary similiarities to javascript is the object systems, both Javascript and Lua use prototype based object systems.  That is to say new objects are built on top of existing objects which serve as ptototypes adding attributes and methods. There some other syntactic differences. But you  know what wether we know lua or not we only need to know enough to get this working, I'm sure the interwebs can help, enough.\n",
    "\n",
    "Okay so lets dive right in by looking at http-headers.nse\n",
    "\n",
    "```lua\n",
    "local http = require \"http\"\n",
    "local nmap = require \"nmap\"\n",
    "local shortport = require \"shortport\"\n",
    "local stdnse = require \"stdnse\"\n",
    "local table = require \"table\"\n",
    "\n",
    "description = [[\n",
    "Performs a HEAD request for the root folder (\"/\") of a web server and displays the HTTP headers returned.\n",
    "]]\n",
    "\n",
    "---\n",
    "-- @output\n",
    "-- PORT   STATE SERVICE\n",
    "-- 80/tcp open  http\n",
    "-- | http-headers:\n",
    "-- |   Date: Fri, 25 Jan 2013 17:39:08 GMT\n",
    "-- |   Server: Apache/2.2.14 (Ubuntu)\n",
    "-- |   Accept-Ranges: bytes\n",
    "-- |   Vary: Accept-Encoding\n",
    "-- |   Connection: close\n",
    "-- |   Content-Type: text/html\n",
    "-- |\n",
    "-- |_  (Request type: HEAD)\n",
    "--\n",
    "--@args path The path to request, such as <code>/index.php</code>. Default <code>/</code>.\n",
    "--@args useget Set to force GET requests instead of HEAD.\n",
    "\n",
    "author = \"Ron Bowes\"\n",
    "\n",
    "license = \"Same as Nmap--See https://nmap.org/book/man-legal.html\"\n",
    "\n",
    "categories = {\"discovery\", \"safe\"}\n",
    "\n",
    "portrule = shortport.http\n",
    "\n",
    "local function fail (err) return stdnse.format_output(false, err) end\n",
    "\n",
    "action = function(host, port)\n",
    "  local path = stdnse.get_script_args(SCRIPT_NAME..\".path\") or \"/\"\n",
    "  local useget = stdnse.get_script_args(SCRIPT_NAME..\".useget\")\n",
    "  local request_type = \"HEAD\"\n",
    "  local status = false\n",
    "  local result\n",
    "\n",
    "  -- Check if the user didn't want HEAD to be used\n",
    "  if(useget == nil) then\n",
    "    -- Try using HEAD first\n",
    "    status, result = http.can_use_head(host, port, nil, path)\n",
    "  end\n",
    "\n",
    "  -- If head failed, try using GET\n",
    "  if(status == false) then\n",
    "    stdnse.debug1(\"HEAD request failed, falling back to GET\")\n",
    "    result = http.get(host, port, path)\n",
    "    request_type = \"GET\"\n",
    "  end\n",
    "\n",
    "  if(result == nil) then\n",
    "    return fail(\"Header request failed\")\n",
    "  end\n",
    "\n",
    "  if(result.rawheader == nil) then\n",
    "    return fail(\"Header request didn't return a proper header\")\n",
    "  end\n",
    "\n",
    "  table.insert(result.rawheader, \"(Request type: \" .. request_type .. \")\")\n",
    "\n",
    "  return stdnse.format_output(true, result.rawheader)\n",
    "end\n",
    "\n",
    "```\n",
    "Okay looks simple enough, it seems like NMap NSE scripts uses a protocol, where there are sertain specal variables that get populated and NMAP NSE uses them to do things like display documentation, preform actions durring the scan. \n",
    "\n",
    "Lets start by copying the code block above in a text editor saving it awith the name python-http-git.nse and change value of the description variable to describe what were going to adapt the script to do. One thing I think you've niticed is that [[ and ]] enclose or delimit a string that spans multiple lines.\n",
    "\n",
    "```lua\n",
    "\n",
    "description = [[\n",
    "Performs a HEAD request for the root folder (\"/\") of a web server and displays the HTTP headers returned.\n",
    "]]\n",
    "\n",
    "```\n",
    "\n",
    "Okay lets see if our change took"
   ]
  },
  {
   "cell_type": "code",
   "execution_count": 1,
   "metadata": {
    "collapsed": false,
    "deletable": true,
    "editable": true
   },
   "outputs": [
    {
     "name": "stdout",
     "output_type": "stream",
     "text": [
      "\n",
      "Starting Nmap 7.40 ( https://nmap.org ) at 2018-05-28 13:41 EDT\n",
      "\n",
      "python-http-git\n",
      "Categories: discovery safe\n",
      "https://nmap.org/nsedoc/scripts/python-http-git.html\n",
      "  Performs a HEAD request for the root folder (\"/\") of a web server and display wether it is a python http-server.\n"
     ]
    }
   ],
   "source": [
    "!nmap --script-help=./python-http-git.nse"
   ]
  },
  {
   "cell_type": "markdown",
   "metadata": {},
   "source": [
    "Sweet that worked BTW --script-help can be used to get documentation on other nmap scripts....\n",
    "\n",
    "Okay lets get to work, readign theought the code we can infer action is a function that gets call durring the scan if a port is open. action is given the host and port being scanned. Reading further we see that it tries to make a HTTP HEAD request. (A HTTP HEAD request returns only the headers and not the full page, browsers and spider might often make this request to decide if a page has changed since the last time the loaded it and decide wether to reload it again)\n",
    "\n",
    "We also notice the condition where useget is checked to be nill, and reading backwards to the local declaration of useget it would appear that is an argument that can be used to make HTTP GET requests only. Cools so now we see you we might be able to pass a NSE script an argument if we wanted to.\n",
    "\n",
    "So something interesting on line 52 is the stdnse.debug1 function looks like we can use that to print debuging output\n",
    "\n",
    "So moving on downwe get past the conditions that checked wether to use GET requests (line 46), see if the status of the HEAD request was successful(line 52), wether the result of the request was populated (line 58), and wether it is a valid HTTP header (line 62).\n",
    "\n",
    "So we get owards the end this is probably where we will want to make out changes...\n",
    "\n",
    "```lua   \n",
    "  table.insert(result.rawheader, \"(Request type: \" .. request_type .. \")\")\n",
    "\n",
    "  return stdnse.format_output(true, result.rawheader)\n",
    "```\n",
    "So it looks like that result.rawheader is a lua table and that it is adding a line to it. Interesting I bet that .. is used to glue pieces of strings together. Finally it is calling stdnse.format_output to format the output and return it back to nse.\n",
    "\n",
    "Okay looking back when we ran the http-headers NSE script we get the value of the Server HTTP Heaser value returned by our puthon http-server\n",
    "```\n",
    "Server: SimpleHTTP/0.6 Python/3.5.2\n",
    "```\n",
    "Okay how do we get the value in the header? It has to be some where in the result. Okay perhaps we need to do some research. We remember a line at the top of the program\n",
    "\n",
    "```lua\n",
    "local http = require \"http\"\n",
    "```\n",
    "\n",
    "http must be the library that is being used, we could find it ant try to read the code (The code for the lua libraries that NSE makes avaliable is /usr/share/nmap/nselib BTW) Or we could search the interwebs for some information... Perhaps we search for 'nse http library' which should brobly find the documentation for the http library for nse (here is the link BTW https://nmap.org/nsedoc/lib/http.html )\n",
    "\n",
    "After reading into the doc a short way it looks like the http functions return a table and one of the indexxes is head which is another table where the HEADER attributes are converted to lowercase and used as indexes.\n",
    "\n",
    "So I think we could get at the value of the Server attribute by doing the following\n",
    "```lua\n",
    "result.header.server\n",
    "```\n",
    "\n",
    "Lets test this at around line 65 before the table.insert lets try to print out the value in debugging output . Add the line below to python-http-git.nse save it then runit with debug enabled\n",
    "```lua\n",
    " stdnse.debug1(\"This is the Server attribute in the response:\" .. result.header.server)\n",
    " ```"
   ]
  },
  {
   "cell_type": "code",
   "execution_count": 2,
   "metadata": {
    "collapsed": false
   },
   "outputs": [
    {
     "name": "stdout",
     "output_type": "stream",
     "text": [
      "\n",
      "Starting Nmap 7.40 ( https://nmap.org ) at 2018-05-28 14:47 EDT\n",
      "--------------- Timing report ---------------\n",
      "  hostgroups: min 1, max 100000\n",
      "  rtt-timeouts: init 1000, min 100, max 10000\n",
      "  max-scan-delay: TCP 1000, UDP 1000, SCTP 1000\n",
      "  parallelism: min 0, max 0\n",
      "  max-retries: 10, host-timeout: 0\n",
      "  min-rate: 0, max-rate: 0\n",
      "---------------------------------------------\n",
      "NSE: Using Lua 5.3.\n",
      "NSE: Arguments from CLI: \n",
      "NSE: Loaded 1 scripts for scanning.\n",
      "NSE: Script Pre-scanning.\n",
      "NSE: Starting runlevel 1 (of 1) scan.\n",
      "Initiating NSE at 14:47\n",
      "Completed NSE at 14:47, 0.00s elapsed\n",
      "Initiating Ping Scan at 14:47\n",
      "Scanning 127.0.0.1 [2 ports]\n",
      "Completed Ping Scan at 14:47, 0.00s elapsed (1 total hosts)\n",
      "Overall sending rates: 3809.52 packets / s.\n",
      "mass_rdns: Using DNS server 192.168.1.254\n",
      "mass_rdns: Using DNS server 2600:1700:840:8880::1\n",
      "Initiating Connect Scan at 14:47\n",
      "Scanning localhost (127.0.0.1) [1 port]\n",
      "Discovered open port 8000/tcp on 127.0.0.1\n",
      "Completed Connect Scan at 14:47, 0.00s elapsed (1 total ports)\n",
      "Overall sending rates: 4566.21 packets / s.\n",
      "NSE: Script scanning 127.0.0.1.\n",
      "NSE: Starting runlevel 1 (of 1) scan.\n",
      "Initiating NSE at 14:47\n",
      "NSE: Starting python-http-git against 127.0.0.1:8000.\n",
      "NSE: [python-http-git 127.0.0.1:8000] HTTP: Host supports HEAD.\n",
      "NSE: [python-http-git 127.0.0.1:8000] This is the Server attribute in the response:SimpleHTTP/0.6 Python/3.5.2\n",
      "NSE: Finished python-http-git against 127.0.0.1:8000.\n",
      "Completed NSE at 14:47, 0.00s elapsed\n",
      "Nmap scan report for localhost (127.0.0.1)\n",
      "Host is up, received conn-refused (0.00040s latency).\n",
      "Scanned at 2018-05-28 14:47:49 EDT for 0s\n",
      "PORT     STATE SERVICE  REASON\n",
      "8000/tcp open  http-alt syn-ack\n",
      "| python-http-git: \n",
      "|   Server: SimpleHTTP/0.6 Python/3.5.2\n",
      "|   Date: Mon, 28 May 2018 18:47:49 GMT\n",
      "|   Content-type: text/html; charset=utf-8\n",
      "|   Content-Length: 668\n",
      "|   \n",
      "|_  (Request type: HEAD)\n",
      "Final times for host: srtt: 405 rttvar: 3824  to: 100000\n",
      "\n",
      "NSE: Script Post-scanning.\n",
      "NSE: Starting runlevel 1 (of 1) scan.\n",
      "Initiating NSE at 14:47\n",
      "Completed NSE at 14:47, 0.00s elapsed\n",
      "Read from /usr/bin/../share/nmap: nmap-payloads nmap-services.\n",
      "Nmap done: 1 IP address (1 host up) scanned in 0.41 seconds\n"
     ]
    }
   ],
   "source": [
    "!nmap -d --script=./python-http-git.nse -p 8000 127.0.0.1 "
   ]
  },
  {
   "cell_type": "markdown",
   "metadata": {},
   "source": [
    "Wow lots of text. But it is pretty cool as you look through it trying to findout if it worked you can see what nmap is doing as it preforms the scan and runs your script, pretty cool. Anyways we see that it did infact work:\n",
    "\n",
    "    NSE: [python-http-git 127.0.0.1:8000] This is the Server attribute in the response:SimpleHTTP/0.6 Python/3.5.2\n",
    "\n",
    "Okay so now we just need to be determine when the value of result.header.server matches \"SimpleHTTP/0.6 Python/3.5.2\". Of course version change so we probably want to also take this into account.\n",
    "\n",
    "Hmm well well how do you do this in Lua? I guess we can ask the interwebs again. Perhaps we search for \"lua string match\"\n",
    "\n",
    "Well the 'Lua Patterns Tutorial looks like a good place to start ( http://lua-users.org/wiki/PatternsTutorial ).\n",
    "We learn that lua provides pattern matching on strings similar to regular expressions. This is primarilly preformed with the ```string match``` function, there first argument is the string and the second is the pattern.\n",
    "Also we wanted to handle changing version numbers, wel ```%d``` will match any decimal and ```+``` will match the preciding value one or more times (incase the version has a decial in the double or triple digits). \n",
    "\n",
    "So lets fire up a lua prompt and test this out, you can do this by typing ```lua``` in your terminal.\n",
    "```lua\n",
    "$ lua\n",
    "Lua 5.3.4  Copyright (C) 1994-2017 Lua.org, PUC-Rio\n",
    "> string.match(\"SimpleHTTP/0.6 Python/3.5.2\",\"Simple\")\n",
    "Simple\n",
    "> string.match(\"SimpleHTTP/0.6 Python/3.5.2\",\"SimpleHTTP/\")\n",
    "SimpleHTTP/\n",
    "> string.match(\"SimpleHTTP/0.6 Python/3.5.2\",\"SimpleHTTP/%d\")\n",
    "SimpleHTTP/0\n",
    "> string.match(\"SimpleHTTP/0.6 Python/3.5.2\",\"SimpleHTTP/%d+\")\n",
    "SimpleHTTP/0\n",
    "> string.match(\"SimpleHTTP/0.6 Python/3.5.2\",\"SimpleHTTP/%d+.%d\")\n",
    "SimpleHTTP/0.6\n",
    "> string.match(\"SimpleHTTP/0.6 Python/3.5.2\",\"SimpleHTTP/%d+.%d%s+\")\n",
    "SimpleHTTP/0.6 \n",
    "> string.match(\"SimpleHTTP/0.6 Python/3.5.2\",\"SimpleHTTP/%d+.%d%s+Python/\")\n",
    "SimpleHTTP/0.6 Python/\n",
    "> string.match(\"SimpleHTTP/0.6 Python/3.5.2\",\"SimpleHTTP/%d+.%d%s+Python/%d+.%d\")\n",
    "SimpleHTTP/0.6 Python/3.5\n",
    "> string.match(\"SimpleHTTP/0.6 Python/3.5.2\",\"SimpleHTTP/%d+.%d%s+Python/%d+.%d\").%d\n",
    "stdin:1: <name> expected near '%'\n",
    "> string.match(\"SimpleHTTP/0.6 Python/3.5.2\",\"SimpleHTTP/%d+.%d%s+Python/%d+.%d.%d\")\n",
    "SimpleHTTP/0.6 Python/3.5.2\n",
    "> string.match(\"SimpleHTTP/0.6 Python/3.5.2\",\"SimpleHTTP/%d+.%d+%s+Python/%d+.%d+.%d+\")\n",
    "SimpleHTTP/0.6 Python/3.5.2\n",
    "> string.match(\"XimpleHTTP/0.6 Python/3.5.2\",\"SimpleHTTP/%d+.%d+%s+Python/%d+.%d+.%d+\")\n",
    "nil\n",
    "> \n",
    "```\n",
    "So w notice that ```string.match`` return the matched string if it succeds and ```nil``` if it fails.\n",
    "Okay so our match function call will be:\n",
    "```lua\n",
    "string.match(result.header.server, \"SimpleHTTP/%d+.%d+%s+Python/%d+.%d+.%d+\")\n",
    "```\n",
    "\n",
    "Okay lets change the bottom of the action function at like 65 to look like this\n",
    "\n",
    "```lua\n",
    "\n",
    "  if(result.header and result.header.server and string.match(result.header.server, \"SimpleHTTP/%d+.%d+%s+Python/%d+.%d+.%d+\")) then\n",
    "    stdnse.debug1(\"The server is a python HTTP server:\" .. result.header.server)\n",
    "    table.insert(result.rawheader, \"(Request type: \" .. request_type .. \")\")\n",
    "    table.insert(result.rawheader, \"(Server type: Python HTTP Server)\")\n",
    "    return stdnse.format_output(true, result.rawheader)\n",
    "  else\n",
    "    return fail(\"This is not the server we were looking for\")\n",
    "  end\n",
    "\n",
    "```\n",
    "Save the file and we will run the nmap script again this time without the debuging and also we will not specify ports so perhaps we will see if it is excluding other http servers that may be running (like your Jupyter note book if your following along."
   ]
  },
  {
   "cell_type": "code",
   "execution_count": 3,
   "metadata": {
    "collapsed": false
   },
   "outputs": [
    {
     "name": "stdout",
     "output_type": "stream",
     "text": [
      "\n",
      "Starting Nmap 7.40 ( https://nmap.org ) at 2018-05-28 15:25 EDT\n",
      "Nmap scan report for localhost (127.0.0.1)\n",
      "Host is up (0.00022s latency).\n",
      "PORT     STATE  SERVICE\n",
      "80/tcp   closed http\n",
      "8000/tcp open   http-alt\n",
      "| python-http-git: \n",
      "|   Server: SimpleHTTP/0.6 Python/3.5.2\n",
      "|   Date: Mon, 28 May 2018 19:25:49 GMT\n",
      "|   Content-type: text/html; charset=utf-8\n",
      "|   Content-Length: 668\n",
      "|   \n",
      "|   (Request type: HEAD)\n",
      "|_  (Server type: Python HTTP Server)\n",
      "8888/tcp open   sun-answerbook\n",
      "\n",
      "Nmap done: 1 IP address (1 host up) scanned in 0.42 seconds\n"
     ]
    }
   ],
   "source": [
    "!nmap --script=./python-http-git.nse -p 80,8000,8888 127.0.0.1 "
   ]
  },
  {
   "cell_type": "markdown",
   "metadata": {},
   "source": [
    "Sweet, I love it when a plan comes together.....\n",
    "So we can now identify python http-server servers and have accomplished half of our objective.\n",
    "\n",
    "The other half of out objective is to be able to determine if there is a git repo exposed and if possible snarf any credentials and other useful information....\n",
    "\n",
    "That will have to wait for another day....\n"
   ]
  },
  {
   "cell_type": "code",
   "execution_count": null,
   "metadata": {
    "collapsed": true
   },
   "outputs": [],
   "source": []
  }
 ],
 "metadata": {
  "kernelspec": {
   "display_name": "Python 3",
   "language": "python",
   "name": "python3"
  },
  "language_info": {
   "codemirror_mode": {
    "name": "ipython",
    "version": 3
   },
   "file_extension": ".py",
   "mimetype": "text/x-python",
   "name": "python",
   "nbconvert_exporter": "python",
   "pygments_lexer": "ipython3",
   "version": "3.5.2"
  }
 },
 "nbformat": 4,
 "nbformat_minor": 2
}
